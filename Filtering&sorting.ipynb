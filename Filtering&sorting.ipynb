{
 "cells": [
  {
   "cell_type": "code",
   "execution_count": 2,
   "id": "c47cadd7-5b2e-4d9e-9798-fa504281288c",
   "metadata": {},
   "outputs": [
    {
     "data": {
      "text/plain": [
       "Pclass\n",
       "1    38.233441\n",
       "2    29.877630\n",
       "3    25.140620\n",
       "Name: Age, dtype: float64"
      ]
     },
     "execution_count": 2,
     "metadata": {},
     "output_type": "execute_result"
    }
   ],
   "source": [
    "import pandas as pd\n",
    "\n",
    "d = pd.read_csv(\"titanic.csv\")\n",
    "d.head()\n",
    "\n",
    "\n",
    "#COLUMN SELECTION\n",
    "d[\"Age\"]  # or \"Fare\", \"Sex\", \"Survived\", etc.\n",
    "\n",
    "#Store column in a variable \n",
    "ages = d[\"Age\"]\n",
    "ages\n",
    "\n",
    "#Select multiple columns \n",
    "d[[\"Age\", \"Fare\", \"Sex\", \"Survived\"]] \n",
    "\n",
    "#FILTERING ROWS (CONDITIONS) \n",
    "\n",
    "#Passengers younger than 10 \n",
    "\n",
    "d[d['Age'] < 10]\n",
    "\n",
    "#Passengers older than 60 who survived \n",
    "\n",
    "d[(d['Age'] > 60) & (d['Survived'] == 1)]\n",
    "\n",
    "#Female passengers who survived \n",
    "\n",
    "d[(d['Sex'] == 'female') & (d['Survived'] == 1)] \n",
    "\n",
    "#Passengers in 1st class who died \n",
    "\n",
    "d[(d['Pclass'] == 1) & (d['Survived'] == 0)] \n",
    "\n",
    "#Passengers with fare ≥ $100 \n",
    "\n",
    "d[d['Fare'] >= 100]\n",
    "\n",
    "#SORTING \n",
    "#Sort passengers by age (youngest first)\n",
    "\n",
    "d.sort_values('Age') \n",
    "\n",
    "#Sort by fare (highest first)\n",
    "\n",
    "d.sort_values('Fare', ascending=False)\n",
    "\n",
    "#Number of survivors \n",
    "d['Survived'].value_counts()\n",
    "\n",
    "#Survival rate by sex\n",
    "d.groupby('Sex')['Survived'].mean()\n",
    "#Average age per class \n",
    "d.groupby('Pclass')['Age'].mean()\n"
   ]
  }
 ],
 "metadata": {
  "kernelspec": {
   "display_name": "Python 3 (ipykernel)",
   "language": "python",
   "name": "python3"
  },
  "language_info": {
   "codemirror_mode": {
    "name": "ipython",
    "version": 3
   },
   "file_extension": ".py",
   "mimetype": "text/x-python",
   "name": "python",
   "nbconvert_exporter": "python",
   "pygments_lexer": "ipython3",
   "version": "3.13.1"
  }
 },
 "nbformat": 4,
 "nbformat_minor": 5
}
