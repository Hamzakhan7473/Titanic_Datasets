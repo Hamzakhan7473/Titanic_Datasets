{
 "cells": [
  {
   "cell_type": "code",
   "execution_count": 3,
   "id": "fa56a146-1845-4c6d-bc4b-1e830fde88b8",
   "metadata": {},
   "outputs": [
    {
     "name": "stdout",
     "output_type": "stream",
     "text": [
      " Accuracy: 0.7932960893854749\n",
      "\n",
      " Classification Report:\n",
      "               precision    recall  f1-score   support\n",
      "\n",
      "           0       0.81      0.84      0.83       105\n",
      "           1       0.76      0.73      0.74        74\n",
      "\n",
      "    accuracy                           0.79       179\n",
      "   macro avg       0.79      0.78      0.79       179\n",
      "weighted avg       0.79      0.79      0.79       179\n",
      "\n",
      "\n",
      " Confusion Matrix:\n",
      " [[88 17]\n",
      " [20 54]]\n",
      "Prediction: Survived \n"
     ]
    }
   ],
   "source": [
    "#Logistic Regression on Titanic Data \n",
    "\n",
    "import pandas as pd\n",
    "from sklearn.model_selection import train_test_split\n",
    "from sklearn.linear_model import LogisticRegression\n",
    "from sklearn.metrics import accuracy_score, classification_report, confusion_matrix\n",
    "\n",
    "d = pd.read_csv(\"titanic.csv\")\n",
    "\n",
    "# Drop useless columns\n",
    "d = d.drop(columns=['Name', 'Ticket', 'Cabin'])\n",
    "\n",
    "# Fill missing values\n",
    "d['Age'] = d['Age'].fillna(d['Age'].mean())\n",
    "d['Embarked'] = d['Embarked'].fillna(d['Embarked'].mode()[0])\n",
    "\n",
    "# Convert categorical columns to numeric\n",
    "d['Sex'] = d['Sex'].map({'male': 0, 'female': 1})\n",
    "d['Embarked'] = d['Embarked'].map({'S': 0, 'C': 1, 'Q': 2})\n",
    "\n",
    "# Features: input columns\n",
    "X = d[['Pclass', 'Sex', 'Age', 'Fare', 'Embarked']]\n",
    "\n",
    "# Target: output column\n",
    "y = d['Survived']\n",
    "\n",
    "X_train, X_test, y_train, y_test = train_test_split(X, y, test_size=0.2, random_state=42)\n",
    "\n",
    "model = LogisticRegression(max_iter=1000)\n",
    "model.fit(X_train, y_train)\n",
    "\n",
    "y_pred = model.predict(X_test)\n",
    "\n",
    "print(\" Accuracy:\", accuracy_score(y_test, y_pred))\n",
    "print(\"\\n Classification Report:\\n\", classification_report(y_test, y_pred))\n",
    "print(\"\\n Confusion Matrix:\\n\", confusion_matrix(y_test, y_pred))\n",
    "\n",
    "test_passenger = pd.DataFrame([[2, 1, 30, 50, 1]], columns=['Pclass', 'Sex', 'Age', 'Fare', 'Embarked'])\n",
    "prediction = model.predict(test_passenger)\n",
    "\n",
    "print(\"Prediction:\", \"Survived \" if prediction[0] == 1 else \"Did Not Survive ❌\")\n"
   ]
  },
  {
   "cell_type": "code",
   "execution_count": null,
   "id": "6d5052d0-a808-422f-aab6-b324dcc4b82f",
   "metadata": {},
   "outputs": [],
   "source": []
  }
 ],
 "metadata": {
  "kernelspec": {
   "display_name": "Python 3 (ipykernel)",
   "language": "python",
   "name": "python3"
  },
  "language_info": {
   "codemirror_mode": {
    "name": "ipython",
    "version": 3
   },
   "file_extension": ".py",
   "mimetype": "text/x-python",
   "name": "python",
   "nbconvert_exporter": "python",
   "pygments_lexer": "ipython3",
   "version": "3.13.1"
  }
 },
 "nbformat": 4,
 "nbformat_minor": 5
}
