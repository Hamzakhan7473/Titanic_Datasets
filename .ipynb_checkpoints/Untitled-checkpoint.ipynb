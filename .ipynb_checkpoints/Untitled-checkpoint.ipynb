{
 "cells": [
  {
   "cell_type": "code",
   "execution_count": null,
   "id": "04d91260-3003-4858-9b00-5f4dc2155274",
   "metadata": {},
   "outputs": [],
   "source": [
    "import pandas as pd\n",
    "\n",
    "# To read the file in the same folder :\n",
    "df = pd.read_csv(\"titanic.csv\")\n",
    "\n",
    "\n",
    "# statistics \n",
    "#Mean of all numeric columns \n",
    "\n",
    "\n",
    "df.count()\n",
    "#Max values in each column \n",
    "df.max()\n",
    "# Min values \n",
    "df.min()\n",
    "# Median values \n",
    "df.median()\n",
    "#Standard deviation \n",
    "df.std()\n"
   ]
  },
  {
   "cell_type": "code",
   "execution_count": null,
   "id": "f6a4a47a-8085-4c57-adc2-692e458b8f64",
   "metadata": {},
   "outputs": [],
   "source": []
  },
  {
   "cell_type": "code",
   "execution_count": null,
   "id": "edc33cc6-78c5-4d52-a285-c50dbeab6f36",
   "metadata": {},
   "outputs": [],
   "source": []
  }
 ],
 "metadata": {
  "kernelspec": {
   "display_name": "Python 3 (ipykernel)",
   "language": "python",
   "name": "python3"
  },
  "language_info": {
   "codemirror_mode": {
    "name": "ipython",
    "version": 3
   },
   "file_extension": ".py",
   "mimetype": "text/x-python",
   "name": "python",
   "nbconvert_exporter": "python",
   "pygments_lexer": "ipython3",
   "version": "3.13.1"
  }
 },
 "nbformat": 4,
 "nbformat_minor": 5
}
