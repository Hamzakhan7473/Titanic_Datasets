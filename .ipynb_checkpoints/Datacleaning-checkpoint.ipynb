{
 "cells": [
  {
   "cell_type": "code",
   "execution_count": 3,
   "id": "bc7c5e14-8ee4-462b-94b4-35e1262c966b",
   "metadata": {},
   "outputs": [
    {
     "name": "stdout",
     "output_type": "stream",
     "text": [
      "<class 'pandas.core.frame.DataFrame'>\n",
      "RangeIndex: 891 entries, 0 to 890\n",
      "Data columns (total 10 columns):\n",
      " #   Column       Non-Null Count  Dtype  \n",
      "---  ------       --------------  -----  \n",
      " 0   PassengerId  891 non-null    int64  \n",
      " 1   Survived     891 non-null    int64  \n",
      " 2   Pclass       891 non-null    int64  \n",
      " 3   Name         891 non-null    object \n",
      " 4   Sex          891 non-null    int64  \n",
      " 5   Age          891 non-null    float64\n",
      " 6   SibSp        891 non-null    int64  \n",
      " 7   Parch        891 non-null    int64  \n",
      " 8   Fare         891 non-null    float64\n",
      " 9   Embarked     889 non-null    object \n",
      "dtypes: float64(2), int64(6), object(2)\n",
      "memory usage: 69.7+ KB\n"
     ]
    }
   ],
   "source": [
    "#Data Cleaning on Titanic Dataset \n",
    "import pandas as pd\n",
    "\n",
    "d = pd.read_csv(\"titanic.csv\")\n",
    "\n",
    "#Check for Missing Values \n",
    "d.isnull().sum()\n",
    "#Drop Unnecessary Columns (like Ticket or Cabin if needed) \n",
    "d = d.drop(columns=['Ticket', 'Cabin'])  # if you think they’re not useful\n",
    "#Fill Missing Values \n",
    "d['Age'] = d['Age'].fillna(d['Age'].mean())\n",
    "#Convert Categorical to Numeric (for ML or analysis) \n",
    "d['Sex'] = d['Sex'].map({'male': 0, 'female': 1})\n",
    "\n",
    "d.head()\n",
    "d.info()\n",
    "\n"
   ]
  }
 ],
 "metadata": {
  "kernelspec": {
   "display_name": "Python 3 (ipykernel)",
   "language": "python",
   "name": "python3"
  },
  "language_info": {
   "codemirror_mode": {
    "name": "ipython",
    "version": 3
   },
   "file_extension": ".py",
   "mimetype": "text/x-python",
   "name": "python",
   "nbconvert_exporter": "python",
   "pygments_lexer": "ipython3",
   "version": "3.13.1"
  }
 },
 "nbformat": 4,
 "nbformat_minor": 5
}
